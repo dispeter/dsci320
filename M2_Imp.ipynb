{
 "cells": [
  {
   "cell_type": "markdown",
   "id": "a81e88c9-d504-4ee4-85bc-798b1917795f",
   "metadata": {},
   "source": [
    "# Milestone 2 Implementation\n",
    "- Kevin Mak\n",
    "- Peter Lee\n",
    "- Ryan Peng"
   ]
  },
  {
   "cell_type": "code",
   "execution_count": 64,
   "id": "a933e63b-0efa-4172-a17b-f9feb50b19e8",
   "metadata": {},
   "outputs": [
    {
     "data": {
      "text/html": [
       "<div>\n",
       "<style scoped>\n",
       "    .dataframe tbody tr th:only-of-type {\n",
       "        vertical-align: middle;\n",
       "    }\n",
       "\n",
       "    .dataframe tbody tr th {\n",
       "        vertical-align: top;\n",
       "    }\n",
       "\n",
       "    .dataframe thead th {\n",
       "        text-align: right;\n",
       "    }\n",
       "</style>\n",
       "<table border=\"1\" class=\"dataframe\">\n",
       "  <thead>\n",
       "    <tr style=\"text-align: right;\">\n",
       "      <th></th>\n",
       "      <th>track_name</th>\n",
       "      <th>album_name</th>\n",
       "      <th>artist</th>\n",
       "      <th>genre</th>\n",
       "      <th>mode</th>\n",
       "      <th>key</th>\n",
       "      <th>tempo</th>\n",
       "      <th>duration</th>\n",
       "      <th>popularity</th>\n",
       "      <th>danceability</th>\n",
       "      <th>loudness</th>\n",
       "      <th>speechiness</th>\n",
       "      <th>acousticness</th>\n",
       "      <th>instrumentalness</th>\n",
       "      <th>liveness</th>\n",
       "      <th>energy</th>\n",
       "      <th>valence</th>\n",
       "    </tr>\n",
       "  </thead>\n",
       "  <tbody>\n",
       "    <tr>\n",
       "      <th>8331</th>\n",
       "      <td>Luz em Todo Morro - Acústico</td>\n",
       "      <td>Acústico 3030</td>\n",
       "      <td>3030</td>\n",
       "      <td>brazil</td>\n",
       "      <td>Minor</td>\n",
       "      <td>E</td>\n",
       "      <td>128.14</td>\n",
       "      <td>280.45</td>\n",
       "      <td>47</td>\n",
       "      <td>0.711</td>\n",
       "      <td>-8.597</td>\n",
       "      <td>0.0491</td>\n",
       "      <td>0.7290</td>\n",
       "      <td>0.002830</td>\n",
       "      <td>0.708</td>\n",
       "      <td>0.495</td>\n",
       "      <td>0.514</td>\n",
       "    </tr>\n",
       "    <tr>\n",
       "      <th>8332</th>\n",
       "      <td>Brilho Na Alma</td>\n",
       "      <td>Arcano 19</td>\n",
       "      <td>3030</td>\n",
       "      <td>brazil</td>\n",
       "      <td>Minor</td>\n",
       "      <td>B</td>\n",
       "      <td>121.96</td>\n",
       "      <td>206.80</td>\n",
       "      <td>43</td>\n",
       "      <td>0.859</td>\n",
       "      <td>-6.180</td>\n",
       "      <td>0.0556</td>\n",
       "      <td>0.2790</td>\n",
       "      <td>0.000002</td>\n",
       "      <td>0.114</td>\n",
       "      <td>0.661</td>\n",
       "      <td>0.598</td>\n",
       "    </tr>\n",
       "    <tr>\n",
       "      <th>8333</th>\n",
       "      <td>Dentro De Um Instante</td>\n",
       "      <td>Arcano 19</td>\n",
       "      <td>3030</td>\n",
       "      <td>brazil</td>\n",
       "      <td>Minor</td>\n",
       "      <td>D</td>\n",
       "      <td>75.02</td>\n",
       "      <td>204.80</td>\n",
       "      <td>46</td>\n",
       "      <td>0.736</td>\n",
       "      <td>-9.999</td>\n",
       "      <td>0.0774</td>\n",
       "      <td>0.6530</td>\n",
       "      <td>0.000035</td>\n",
       "      <td>0.120</td>\n",
       "      <td>0.495</td>\n",
       "      <td>0.437</td>\n",
       "    </tr>\n",
       "    <tr>\n",
       "      <th>8334</th>\n",
       "      <td>Raízes</td>\n",
       "      <td>Arcano 19</td>\n",
       "      <td>3030</td>\n",
       "      <td>brazil</td>\n",
       "      <td>Minor</td>\n",
       "      <td>E</td>\n",
       "      <td>83.68</td>\n",
       "      <td>190.57</td>\n",
       "      <td>44</td>\n",
       "      <td>0.604</td>\n",
       "      <td>-11.259</td>\n",
       "      <td>0.0652</td>\n",
       "      <td>0.7940</td>\n",
       "      <td>0.000042</td>\n",
       "      <td>0.102</td>\n",
       "      <td>0.392</td>\n",
       "      <td>0.387</td>\n",
       "    </tr>\n",
       "    <tr>\n",
       "      <th>8335</th>\n",
       "      <td>Expectativas</td>\n",
       "      <td>Expectativas</td>\n",
       "      <td>3030</td>\n",
       "      <td>brazil</td>\n",
       "      <td>Minor</td>\n",
       "      <td>B</td>\n",
       "      <td>136.94</td>\n",
       "      <td>201.46</td>\n",
       "      <td>52</td>\n",
       "      <td>0.750</td>\n",
       "      <td>-9.219</td>\n",
       "      <td>0.0580</td>\n",
       "      <td>0.7980</td>\n",
       "      <td>0.000000</td>\n",
       "      <td>0.310</td>\n",
       "      <td>0.507</td>\n",
       "      <td>0.897</td>\n",
       "    </tr>\n",
       "    <tr>\n",
       "      <th>...</th>\n",
       "      <td>...</td>\n",
       "      <td>...</td>\n",
       "      <td>...</td>\n",
       "      <td>...</td>\n",
       "      <td>...</td>\n",
       "      <td>...</td>\n",
       "      <td>...</td>\n",
       "      <td>...</td>\n",
       "      <td>...</td>\n",
       "      <td>...</td>\n",
       "      <td>...</td>\n",
       "      <td>...</td>\n",
       "      <td>...</td>\n",
       "      <td>...</td>\n",
       "      <td>...</td>\n",
       "      <td>...</td>\n",
       "      <td>...</td>\n",
       "    </tr>\n",
       "    <tr>\n",
       "      <th>88813</th>\n",
       "      <td>Dile Kolay Kalbe Değil</td>\n",
       "      <td>Bir Gece Yarası</td>\n",
       "      <td>Zakkum</td>\n",
       "      <td>turkish</td>\n",
       "      <td>Minor</td>\n",
       "      <td>B</td>\n",
       "      <td>165.87</td>\n",
       "      <td>307.42</td>\n",
       "      <td>45</td>\n",
       "      <td>0.430</td>\n",
       "      <td>-6.015</td>\n",
       "      <td>0.0291</td>\n",
       "      <td>0.0418</td>\n",
       "      <td>0.000000</td>\n",
       "      <td>0.127</td>\n",
       "      <td>0.624</td>\n",
       "      <td>0.439</td>\n",
       "    </tr>\n",
       "    <tr>\n",
       "      <th>88814</th>\n",
       "      <td>İkimiz de Yorgunuz</td>\n",
       "      <td>Bir Gece Yarası</td>\n",
       "      <td>Zakkum</td>\n",
       "      <td>turkish</td>\n",
       "      <td>Minor</td>\n",
       "      <td>F-sharp</td>\n",
       "      <td>169.96</td>\n",
       "      <td>236.99</td>\n",
       "      <td>41</td>\n",
       "      <td>0.465</td>\n",
       "      <td>-5.885</td>\n",
       "      <td>0.0317</td>\n",
       "      <td>0.2030</td>\n",
       "      <td>0.000000</td>\n",
       "      <td>0.122</td>\n",
       "      <td>0.582</td>\n",
       "      <td>0.532</td>\n",
       "    </tr>\n",
       "    <tr>\n",
       "      <th>88815</th>\n",
       "      <td>Hiç mi Özlemedin</td>\n",
       "      <td>Duble, Vol. 1</td>\n",
       "      <td>Zakkum</td>\n",
       "      <td>turkish</td>\n",
       "      <td>Minor</td>\n",
       "      <td>E</td>\n",
       "      <td>179.86</td>\n",
       "      <td>202.12</td>\n",
       "      <td>42</td>\n",
       "      <td>0.388</td>\n",
       "      <td>-11.964</td>\n",
       "      <td>0.0445</td>\n",
       "      <td>0.2990</td>\n",
       "      <td>0.000142</td>\n",
       "      <td>0.158</td>\n",
       "      <td>0.398</td>\n",
       "      <td>0.429</td>\n",
       "    </tr>\n",
       "    <tr>\n",
       "      <th>88816</th>\n",
       "      <td>Sevdalılar Beni Anlar</td>\n",
       "      <td>Derin Aşk 4</td>\n",
       "      <td>Zara</td>\n",
       "      <td>turkish</td>\n",
       "      <td>Minor</td>\n",
       "      <td>E</td>\n",
       "      <td>108.03</td>\n",
       "      <td>241.30</td>\n",
       "      <td>40</td>\n",
       "      <td>0.720</td>\n",
       "      <td>-5.556</td>\n",
       "      <td>0.0373</td>\n",
       "      <td>0.1990</td>\n",
       "      <td>0.000000</td>\n",
       "      <td>0.350</td>\n",
       "      <td>0.723</td>\n",
       "      <td>0.451</td>\n",
       "    </tr>\n",
       "    <tr>\n",
       "      <th>88817</th>\n",
       "      <td>Ara</td>\n",
       "      <td>Ara</td>\n",
       "      <td>Zeynep Bastık</td>\n",
       "      <td>turkish</td>\n",
       "      <td>Minor</td>\n",
       "      <td>C</td>\n",
       "      <td>163.92</td>\n",
       "      <td>180.23</td>\n",
       "      <td>65</td>\n",
       "      <td>0.621</td>\n",
       "      <td>-5.777</td>\n",
       "      <td>0.0472</td>\n",
       "      <td>0.2410</td>\n",
       "      <td>0.001820</td>\n",
       "      <td>0.116</td>\n",
       "      <td>0.674</td>\n",
       "      <td>0.304</td>\n",
       "    </tr>\n",
       "  </tbody>\n",
       "</table>\n",
       "<p>14014 rows × 17 columns</p>\n",
       "</div>"
      ],
      "text/plain": [
       "                         track_name       album_name         artist    genre  \\\n",
       "8331   Luz em Todo Morro - Acústico    Acústico 3030           3030   brazil   \n",
       "8332                 Brilho Na Alma        Arcano 19           3030   brazil   \n",
       "8333          Dentro De Um Instante        Arcano 19           3030   brazil   \n",
       "8334                         Raízes        Arcano 19           3030   brazil   \n",
       "8335                   Expectativas     Expectativas           3030   brazil   \n",
       "...                             ...              ...            ...      ...   \n",
       "88813        Dile Kolay Kalbe Değil  Bir Gece Yarası         Zakkum  turkish   \n",
       "88814            İkimiz de Yorgunuz  Bir Gece Yarası         Zakkum  turkish   \n",
       "88815              Hiç mi Özlemedin    Duble, Vol. 1         Zakkum  turkish   \n",
       "88816         Sevdalılar Beni Anlar      Derin Aşk 4           Zara  turkish   \n",
       "88817                           Ara              Ara  Zeynep Bastık  turkish   \n",
       "\n",
       "        mode      key   tempo  duration  popularity  danceability  loudness  \\\n",
       "8331   Minor        E  128.14    280.45          47         0.711    -8.597   \n",
       "8332   Minor        B  121.96    206.80          43         0.859    -6.180   \n",
       "8333   Minor        D   75.02    204.80          46         0.736    -9.999   \n",
       "8334   Minor        E   83.68    190.57          44         0.604   -11.259   \n",
       "8335   Minor        B  136.94    201.46          52         0.750    -9.219   \n",
       "...      ...      ...     ...       ...         ...           ...       ...   \n",
       "88813  Minor        B  165.87    307.42          45         0.430    -6.015   \n",
       "88814  Minor  F-sharp  169.96    236.99          41         0.465    -5.885   \n",
       "88815  Minor        E  179.86    202.12          42         0.388   -11.964   \n",
       "88816  Minor        E  108.03    241.30          40         0.720    -5.556   \n",
       "88817  Minor        C  163.92    180.23          65         0.621    -5.777   \n",
       "\n",
       "       speechiness  acousticness  instrumentalness  liveness  energy  valence  \n",
       "8331        0.0491        0.7290          0.002830     0.708   0.495    0.514  \n",
       "8332        0.0556        0.2790          0.000002     0.114   0.661    0.598  \n",
       "8333        0.0774        0.6530          0.000035     0.120   0.495    0.437  \n",
       "8334        0.0652        0.7940          0.000042     0.102   0.392    0.387  \n",
       "8335        0.0580        0.7980          0.000000     0.310   0.507    0.897  \n",
       "...            ...           ...               ...       ...     ...      ...  \n",
       "88813       0.0291        0.0418          0.000000     0.127   0.624    0.439  \n",
       "88814       0.0317        0.2030          0.000000     0.122   0.582    0.532  \n",
       "88815       0.0445        0.2990          0.000142     0.158   0.398    0.429  \n",
       "88816       0.0373        0.1990          0.000000     0.350   0.723    0.451  \n",
       "88817       0.0472        0.2410          0.001820     0.116   0.674    0.304  \n",
       "\n",
       "[14014 rows x 17 columns]"
      ]
     },
     "execution_count": 64,
     "metadata": {},
     "output_type": "execute_result"
    }
   ],
   "source": [
    "import pandas as pd\n",
    "\n",
    "url = 'https://github.com/dispeter/dsci320/blob/main/spotify_tracks.csv?raw=true'\n",
    "raw_spotify = pd.read_csv(url)\n",
    "\n",
    "# filter songs by genres relating to countries around the world\n",
    "genres = ['brazil', 'british', 'cantopop', 'french', 'german', 'indian', 'iranian', 'j-pop', 'k-pop', 'latin', 'latino', 'malay', 'mandopop', 'pop', 'spanish', 'swedish', 'turkish']\n",
    "spotify = raw_spotify[raw_spotify[\"track_genre_1\"].isin(genres)]\n",
    "\n",
    "#drop irrelevant attributes\n",
    "spotify = spotify.drop(['track_id', 'artist_2', 'artist_3', 'artist_4', 'track_genre_2', 'track_genre_3', 'track_genre_4', 'track_genre_5', \n",
    "                       'explicit', 'time_signature'], axis=1)\n",
    "\n",
    "#rename columns for easier access\n",
    "spotify = spotify.rename({'artist_1' : 'artist', 'track_genre_1' : 'genre', 'duartion_s' : 'duration'}, axis=1)  \n",
    "\n",
    "most_popular_genres = ['k-pop', 'latino', 'indian', 'pop', 'mandopop']\n",
    "most_popular_spotify = spotify[spotify[\"genre\"].isin(most_popular_genres)]\n",
    "\n",
    "spotify\n",
    "\n"
   ]
  },
  {
   "cell_type": "code",
   "execution_count": 65,
   "id": "01c73182-77ad-4c44-b050-e39b121a1a8b",
   "metadata": {},
   "outputs": [
    {
     "data": {
      "text/plain": [
       "RendererRegistry.enable('mimetype')"
      ]
     },
     "execution_count": 65,
     "metadata": {},
     "output_type": "execute_result"
    }
   ],
   "source": [
    "# Run this cell to ensure that altair plots show up on gradescope\n",
    "# We will talk more about what these lines do later in the course\n",
    "import altair as alt\n",
    "\n",
    "# Handle large data sets without embedding them in the notebook\n",
    "alt.data_transformers.enable('data_server')\n",
    "# Include an image for each plot since Gradescope only supports displaying plots as images\n",
    "alt.renderers.enable('mimetype')"
   ]
  },
  {
   "cell_type": "markdown",
   "id": "1d74782c-7857-487a-b2e9-48531912e221",
   "metadata": {},
   "source": [
    "## Visualization 1 (Task 1 + Task 2)\n"
   ]
  },
  {
   "cell_type": "code",
   "execution_count": 3,
   "id": "2bb4e462-bbb7-4d8b-ae8d-d371bbdaef4c",
   "metadata": {},
   "outputs": [],
   "source": [
    "# duration_eda = alt.Chart(spotify).mark_bar().encode(\n",
    "#     alt.X('duration:Q', bin=alt.BinParams(step=20, maxbins=50, extent=[0, 1000]), title='duration (s)'),\n",
    "#     alt.Y('count()', title='Number of songs')\n",
    "# ).properties(\n",
    "#     title='Durations across all songs'\n",
    "# )\n"
   ]
  },
  {
   "cell_type": "code",
   "execution_count": 61,
   "id": "0f2ed668-6677-4e6b-afd8-bb93a5556967",
   "metadata": {},
   "outputs": [],
   "source": [
    "heatmap_select = alt.selection_multi(fields=['genre'])\n",
    "\n",
    "task_1_popularity = alt.Chart(spotify).mark_bar().add_selection(\n",
    "    heatmap_select\n",
    ").encode(\n",
    "    alt.X('genre:N', title='Genre', sort='-y'),\n",
    "    alt.Y('average(popularity)', title='Average popularity'),\n",
    "    opacity=alt.condition(heatmap_select, alt.value(0.8), alt.value(0.1))\n",
    ").properties(\n",
    "    title='Average popularity across each genre'\n",
    ")"
   ]
  },
  {
   "cell_type": "code",
   "execution_count": 62,
   "id": "55061854-34b3-462e-886f-bf25a21c2b69",
   "metadata": {},
   "outputs": [
    {
     "data": {
      "application/vnd.vegalite.v4+json": {
       "$schema": "https://vega.github.io/schema/vega-lite/v4.17.0.json",
       "config": {
        "view": {
         "continuousHeight": 300,
         "continuousWidth": 400
        }
       },
       "data": {
        "url": "http://localhost:1459/22231b4eb0fb7cc2249c67435fcbb2de.json"
       },
       "hconcat": [
        {
         "encoding": {
          "opacity": {
           "condition": {
            "selection": "selector023",
            "value": 0.8
           },
           "value": 0.1
          },
          "x": {
           "field": "genre",
           "sort": "-y",
           "title": "Genre",
           "type": "nominal"
          },
          "y": {
           "aggregate": "average",
           "field": "popularity",
           "title": "Average popularity",
           "type": "quantitative"
          }
         },
         "mark": "bar",
         "selection": {
          "selector023": {
           "fields": [
            "genre"
           ],
           "type": "multi"
          }
         },
         "title": "Average popularity across each genre"
        },
        {
         "encoding": {
          "color": {
           "aggregate": "count",
           "scale": {
            "scheme": "greenblue"
           },
           "type": "quantitative"
          },
          "x": {
           "bin": {
            "minstep": 10
           },
           "field": "popularity",
           "title": "Popularity",
           "type": "quantitative"
          },
          "y": {
           "bin": {
            "step": 0.1
           },
           "field": "valence",
           "title": "Valence",
           "type": "quantitative"
          }
         },
         "mark": "bar",
         "title": "2D Histogram of the relationship between popularity and valence",
         "transform": [
          {
           "filter": {
            "selection": "selector023"
           }
          }
         ]
        }
       ]
      },
      "image/png": "[encoded data removed]",
      "text/plain": [
       "<VegaLite 4 object>\n",
       "\n",
       "If you see this message, it means the renderer has not been properly enabled\n",
       "for the frontend that you are using. For more information, see\n",
       "https://altair-viz.github.io/user_guide/troubleshooting.html\n"
      ]
     },
     "execution_count": 62,
     "metadata": {},
     "output_type": "execute_result"
    }
   ],
   "source": [
    "task_1_2Dheatmap = alt.Chart(spotify).mark_bar().encode(\n",
    "    alt.X('popularity:Q', bin=alt.BinParams(minstep=10), title=\"Popularity\"),\n",
    "    alt.Y('valence:Q', bin=alt.BinParams(step=0.1), title=\"Valence\"),\n",
    "    alt.Color('count()', scale=alt.Scale(scheme='greenblue'))\n",
    ").transform_filter(\n",
    "    heatmap_select\n",
    ").properties(\n",
    "    title=\"2D Histogram of the relationship between popularity and valence\"\n",
    ")\n",
    "\n",
    "task_1_popularity | task_1_2Dheatmap"
   ]
  },
  {
   "cell_type": "markdown",
   "id": "39ffa9c7-4f60-4b1a-9090-c9d3757e7c74",
   "metadata": {},
   "source": [
    "## Visualization 2 (Task 3 + Task 4)"
   ]
  },
  {
   "cell_type": "code",
   "execution_count": 59,
   "id": "ae66de34-a426-4317-99d5-11781e6bada8",
   "metadata": {},
   "outputs": [],
   "source": [
    "click_select = alt.selection_multi(fields=['genre'])\n",
    "\n",
    "task_2_bar = alt.Chart(most_popular_spotify).mark_bar().add_selection(\n",
    "    click_select\n",
    ").encode(\n",
    "    alt.X('genre:N', title='Genre', sort='-y'),\n",
    "    alt.Y('average(valence)', title='Average valence'),\n",
    "    alt.Color('mode:N'),\n",
    "    tooltip=['average(valence)', 'mode'],\n",
    "    opacity=alt.condition(click_select, alt.value(0.8), alt.value(0.1))\n",
    ").properties(\n",
    "    title=\"Average valence across all songs in top 5 popular genres\",\n",
    "    width=250\n",
    ")\n"
   ]
  },
  {
   "cell_type": "code",
   "execution_count": 60,
   "id": "a6b6c884-3c85-4bd5-814f-31d274f0f744",
   "metadata": {},
   "outputs": [
    {
     "data": {
      "application/vnd.vegalite.v4+json": {
       "$schema": "https://vega.github.io/schema/vega-lite/v4.17.0.json",
       "config": {
        "view": {
         "continuousHeight": 300,
         "continuousWidth": 400
        }
       },
       "data": {
        "url": "http://localhost:1459/0acd23bb61c543289162b50480a598cf.json"
       },
       "hconcat": [
        {
         "encoding": {
          "color": {
           "field": "mode",
           "type": "nominal"
          },
          "opacity": {
           "condition": {
            "selection": "selector022",
            "value": 0.8
           },
           "value": 0.1
          },
          "tooltip": [
           {
            "aggregate": "average",
            "field": "valence",
            "type": "quantitative"
           },
           {
            "field": "mode",
            "type": "nominal"
           }
          ],
          "x": {
           "field": "genre",
           "sort": "-y",
           "title": "Genre",
           "type": "nominal"
          },
          "y": {
           "aggregate": "average",
           "field": "valence",
           "title": "Average valence",
           "type": "quantitative"
          }
         },
         "mark": "bar",
         "selection": {
          "selector022": {
           "fields": [
            "genre"
           ],
           "type": "multi"
          }
         },
         "title": "Average valence across all songs in top 5 popular genres",
         "width": 250
        },
        {
         "encoding": {
          "color": {
           "field": "genre",
           "type": "nominal"
          },
          "opacity": {
           "condition": {
            "selection": "selector022",
            "value": 0.8
           },
           "value": 0.1
          },
          "x": {
           "bin": {
            "step": 5
           },
           "field": "loudness",
           "title": "loudness",
           "type": "quantitative"
          },
          "y": {
           "aggregate": "average",
           "field": "energy",
           "title": "energy",
           "type": "quantitative"
          }
         },
         "height": 350,
         "mark": {
          "size": 5,
          "type": "line"
         },
         "selection": {
          "selector022": {
           "fields": [
            "genre"
           ],
           "type": "multi"
          }
         },
         "title": "Relationship between loudness and energy for each genre",
         "width": 400
        }
       ],
       "resolve": {
        "scale": {
         "color": "independent"
        }
       }
      },
      "image/png": "[encoded data removed]",
      "text/plain": [
       "<VegaLite 4 object>\n",
       "\n",
       "If you see this message, it means the renderer has not been properly enabled\n",
       "for the frontend that you are using. For more information, see\n",
       "https://altair-viz.github.io/user_guide/troubleshooting.html\n"
      ]
     },
     "execution_count": 60,
     "metadata": {},
     "output_type": "execute_result"
    }
   ],
   "source": [
    "energy_loudness = alt.Chart(most_popular_spotify).mark_line(size=5).add_selection(\n",
    "    click_select\n",
    ").encode(\n",
    "    alt.X('loudness:Q', title='loudness', bin=alt.BinParams(step=5)),\n",
    "    alt.Y('average(energy)', title='energy'),\n",
    "    alt.Color('genre:N'),\n",
    "    opacity=alt.condition(click_select, alt.value(0.8), alt.value(0.1))\n",
    ").properties(\n",
    "    title='Relationship between loudness and energy for each genre',\n",
    "    width=400,\n",
    "    height=350\n",
    ")\n",
    "\n",
    "alt.hconcat(\n",
    "    task_2_bar, energy_loudness\n",
    ").resolve_scale(\n",
    "    color='independent'\n",
    ")"
   ]
  },
  {
   "cell_type": "markdown",
   "id": "c64546c9-3789-4d4c-82b9-39a396080a06",
   "metadata": {},
   "source": [
    "## Visualization 3 (Task 5)"
   ]
  },
  {
   "cell_type": "code",
   "execution_count": 32,
   "id": "7113518d-bbb9-45b1-9e94-90b29bc96428",
   "metadata": {},
   "outputs": [
    {
     "data": {
      "application/vnd.vegalite.v4+json": {
       "$schema": "https://vega.github.io/schema/vega-lite/v4.17.0.json",
       "config": {
        "facet": {
         "spacing": 0
        },
        "view": {
         "continuousHeight": 300,
         "continuousWidth": 400,
         "stroke": null
        }
       },
       "data": {
        "url": "http://localhost:1459/0acd23bb61c543289162b50480a598cf.json"
       },
       "encoding": {
        "color": {
         "field": "genre",
         "type": "nominal"
        },
        "column": {
         "field": "genre",
         "header": {
          "labelOrient": "bottom",
          "labelPadding": 0,
          "titleOrient": "bottom"
         },
         "type": "nominal"
        },
        "x": {
         "axis": {
          "grid": false,
          "labels": false,
          "ticks": true,
          "values": [
           0
          ]
         },
         "field": "density",
         "impute": null,
         "stack": "center",
         "title": null,
         "type": "quantitative"
        },
        "y": {
         "field": "valence",
         "title": "Valence",
         "type": "quantitative"
        }
       },
       "height": 250,
       "mark": {
        "orient": "horizontal",
        "type": "area"
       },
       "selection": {
        "keyDropDown": {
         "bind": {
          "input": "select",
          "options": [
           "E",
           "A",
           "G",
           "E-flat",
           "F-sharp",
           "C",
           "D",
           "B",
           "B-flat",
           "C-sharp",
           "A-flat",
           "F"
          ]
         },
         "fields": [
          "key"
         ],
         "init": {
          "key": "E"
         },
         "type": "single"
        }
       },
       "title": "How key affects the valence of songs in each popular genre",
       "transform": [
        {
         "filter": {
          "selection": "keyDropDown"
         }
        },
        {
         "as": [
          "valence",
          "density"
         ],
         "density": "valence",
         "groupby": [
          "genre"
         ]
        }
       ],
       "width": 150
      },
      "image/png": "[encoded data removed]",
      "text/plain": [
       "<VegaLite 4 object>\n",
       "\n",
       "If you see this message, it means the renderer has not been properly enabled\n",
       "for the frontend that you are using. For more information, see\n",
       "https://altair-viz.github.io/user_guide/troubleshooting.html\n"
      ]
     },
     "execution_count": 32,
     "metadata": {},
     "output_type": "execute_result"
    }
   ],
   "source": [
    "unique_keys = most_popular_spotify['key'].unique()\n",
    "\n",
    "key_dropdown = alt.selection_single(\n",
    "    name='keyDropDown',\n",
    "    fields=['key'],\n",
    "    init={'key':unique_keys[0]},\n",
    "    bind=alt.binding_select(options=unique_keys)\n",
    ")\n",
    "\n",
    "# violin plot template from https://pages.github.ubc.ca/kemiola/DSCI320-22W2/lectures/8_Distributions.html#box-violin-plots\n",
    "task_3 = alt.Chart(most_popular_spotify).add_selection(\n",
    "    key_dropdown\n",
    ").transform_filter(\n",
    "    key_dropdown\n",
    ").transform_density(\n",
    "    'valence',\n",
    "    as_=['valence', 'density'],\n",
    "    groupby=['genre']\n",
    ").mark_area(orient='horizontal').encode(\n",
    "    y=alt.Y('valence:Q', title='Valence'),\n",
    "    color='genre:N',\n",
    "    x=alt.X(\n",
    "        'density:Q',\n",
    "        stack='center',\n",
    "        impute=None,\n",
    "        title=None,\n",
    "        axis=alt.Axis(labels=False, values=[0], grid=False, ticks=True),\n",
    "    ),\n",
    "    column=alt.Column(\n",
    "        'genre:N',\n",
    "        header=alt.Header(\n",
    "            titleOrient = 'bottom',\n",
    "            labelOrient = 'bottom',\n",
    "            labelPadding=0\n",
    "        ),\n",
    "    )\n",
    ").properties(\n",
    "    width=150,\n",
    "    height=250,\n",
    "    title=\"How key affects the valence of songs in each popular genre\"\n",
    ").configure_facet(\n",
    "    spacing=0\n",
    ").configure_view(\n",
    "    stroke=None\n",
    ")\n",
    "\n",
    "task_3\n",
    "\n",
    "\n"
   ]
  }
 ],
 "metadata": {
  "kernelspec": {
   "display_name": "Python 3 (ipykernel)",
   "language": "python",
   "name": "python3"
  },
  "language_info": {
   "codemirror_mode": {
    "name": "ipython",
    "version": 3
   },
   "file_extension": ".py",
   "mimetype": "text/x-python",
   "name": "python",
   "nbconvert_exporter": "python",
   "pygments_lexer": "ipython3",
   "version": "3.10.8"
  }
 },
 "nbformat": 4,
 "nbformat_minor": 5
}
